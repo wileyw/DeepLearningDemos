{
  "nbformat": 4,
  "nbformat_minor": 0,
  "metadata": {
    "colab": {
      "private_outputs": true,
      "provenance": [],
      "gpuType": "T4",
      "authorship_tag": "ABX9TyPfd2szk9I+NCou6SCoJGZw",
      "include_colab_link": true
    },
    "kernelspec": {
      "name": "python3",
      "display_name": "Python 3"
    },
    "language_info": {
      "name": "python"
    },
    "accelerator": "GPU",
    "gpuClass": "standard"
  },
  "cells": [
    {
      "cell_type": "markdown",
      "metadata": {
        "id": "view-in-github",
        "colab_type": "text"
      },
      "source": [
        "<a href=\"https://colab.research.google.com/github/wileyw/DeepLearningDemos/blob/master/LoRA/lora_hello_world2.ipynb\" target=\"_parent\"><img src=\"https://colab.research.google.com/assets/colab-badge.svg\" alt=\"Open In Colab\"/></a>"
      ]
    },
    {
      "cell_type": "code",
      "source": [
        "!pip3 uninstall torch -y"
      ],
      "metadata": {
        "id": "EzfLQmy-c9fY"
      },
      "execution_count": null,
      "outputs": []
    },
    {
      "cell_type": "code",
      "source": [
        "!pip install torch==1.11.0"
      ],
      "metadata": {
        "id": "4-IPSPXGcXsP"
      },
      "execution_count": null,
      "outputs": []
    },
    {
      "cell_type": "code",
      "source": [
        "import torch\n",
        "print(torch.__version__)"
      ],
      "metadata": {
        "id": "Et1rcuQMeDjf"
      },
      "execution_count": null,
      "outputs": []
    },
    {
      "cell_type": "code",
      "execution_count": null,
      "metadata": {
        "id": "FK-QGuS3gsMZ"
      },
      "outputs": [],
      "source": [
        "print('test')"
      ]
    },
    {
      "cell_type": "code",
      "source": [
        "!sudo apt-get update"
      ],
      "metadata": {
        "id": "61kVAU1MirsS"
      },
      "execution_count": null,
      "outputs": []
    },
    {
      "cell_type": "code",
      "source": [
        "!sudo apt-get -y install git jq virtualenv"
      ],
      "metadata": {
        "id": "DOUW4eOIizbG"
      },
      "execution_count": null,
      "outputs": []
    },
    {
      "cell_type": "code",
      "source": [
        "!git clone https://github.com/microsoft/LoRA.git; cd LoRA"
      ],
      "metadata": {
        "id": "DEUOudE_i4Yv"
      },
      "execution_count": null,
      "outputs": []
    },
    {
      "cell_type": "code",
      "source": [
        "!ls"
      ],
      "metadata": {
        "id": "bokzXL8ei8UP"
      },
      "execution_count": null,
      "outputs": []
    },
    {
      "cell_type": "code",
      "source": [
        "!ls LoRA/examples/NLG"
      ],
      "metadata": {
        "id": "WPU5_vxWjCvp"
      },
      "execution_count": null,
      "outputs": []
    },
    {
      "cell_type": "code",
      "source": [
        "!python3 -m pip install --upgrade pip"
      ],
      "metadata": {
        "id": "7C80M_rujyM5"
      },
      "execution_count": null,
      "outputs": []
    },
    {
      "cell_type": "code",
      "source": [
        "!python3 -m pip install -r LoRA/examples/NLG/requirement.txt"
      ],
      "metadata": {
        "id": "x8oqUQjHjmj4"
      },
      "execution_count": null,
      "outputs": []
    },
    {
      "cell_type": "code",
      "source": [
        "!python3 -m pip install transformers"
      ],
      "metadata": {
        "id": "lS2ZmMO3klGw"
      },
      "execution_count": null,
      "outputs": []
    },
    {
      "cell_type": "code",
      "source": [
        "!python3 -m pip install spacy tqdm tensorboard progress"
      ],
      "metadata": {
        "id": "l2uD_wpFk4gP"
      },
      "execution_count": null,
      "outputs": []
    },
    {
      "cell_type": "code",
      "source": [
        "import torch\n",
        "print(torch.__version__)"
      ],
      "metadata": {
        "id": "Q7dAMI4lkR2u"
      },
      "execution_count": null,
      "outputs": []
    },
    {
      "cell_type": "code",
      "source": [
        "%cd LoRA/examples/NLG"
      ],
      "metadata": {
        "id": "YbDu2w3FlC9l"
      },
      "execution_count": null,
      "outputs": []
    },
    {
      "cell_type": "code",
      "source": [
        "!ls"
      ],
      "metadata": {
        "id": "QVEol-7IlI1A"
      },
      "execution_count": null,
      "outputs": []
    },
    {
      "cell_type": "code",
      "source": [
        "!bash download_pretrained_checkpoints.sh"
      ],
      "metadata": {
        "id": "hTaJ7ZYzlMsf"
      },
      "execution_count": null,
      "outputs": []
    },
    {
      "cell_type": "code",
      "source": [
        "!bash create_datasets2.sh"
      ],
      "metadata": {
        "id": "e2HL_HV-lQlb"
      },
      "execution_count": null,
      "outputs": []
    },
    {
      "cell_type": "code",
      "source": [
        "%cd ./eval"
      ],
      "metadata": {
        "id": "JDyJhqaUlSsf"
      },
      "execution_count": null,
      "outputs": []
    },
    {
      "cell_type": "code",
      "source": [
        "!bash download_evalscript.sh"
      ],
      "metadata": {
        "id": "K5Cw5xVRl6wM"
      },
      "execution_count": null,
      "outputs": []
    },
    {
      "cell_type": "code",
      "source": [
        "%cd .."
      ],
      "metadata": {
        "id": "Smyk-DKyl8rP"
      },
      "execution_count": null,
      "outputs": []
    },
    {
      "cell_type": "code",
      "source": [
        "!ls"
      ],
      "metadata": {
        "id": "n8rIjmXNmWj3"
      },
      "execution_count": null,
      "outputs": []
    },
    {
      "cell_type": "code",
      "source": [
        "!python3 -m pip install loralib"
      ],
      "metadata": {
        "id": "gQX04dU0oGW1"
      },
      "execution_count": null,
      "outputs": []
    },
    {
      "cell_type": "code",
      "source": [
        "!ls -l data/e2e"
      ],
      "metadata": {
        "id": "5BvLJ03yZx_M"
      },
      "execution_count": null,
      "outputs": []
    },
    {
      "cell_type": "code",
      "source": [
        "!python3 -m torch.distributed.launch --nproc_per_node=1 src/gpt2_ft.py \\\n",
        "    --train_data ./data/e2e/train.jsonl \\\n",
        "    --valid_data ./data/e2e/valid.jsonl \\\n",
        "    --train_batch_size 4 \\\n",
        "    --grad_acc 1 \\\n",
        "    --valid_batch_size 2 \\\n",
        "    --seq_len 512 \\\n",
        "    --model_card gpt2.md \\\n",
        "    --init_checkpoint ./pretrained_checkpoints/gpt2-medium-pytorch_model.bin \\\n",
        "    --platform local \\\n",
        "    --clip 0.0 \\\n",
        "    --lr 0.0002 \\\n",
        "    --weight_decay 0.01 \\\n",
        "    --correct_bias \\\n",
        "    --adam_beta2 0.999 \\\n",
        "    --scheduler linear \\\n",
        "    --warmup_step 500 \\\n",
        "    --max_epoch 5 \\\n",
        "    --save_interval 1000 \\\n",
        "    --lora_dim 4 \\\n",
        "    --lora_alpha 32 \\\n",
        "    --lora_dropout 0.1 \\\n",
        "    --label_smooth 0.1 \\\n",
        "    --work_dir ./trained_models/GPT2_M/e2e \\\n",
        "    --random_seed 110"
      ],
      "metadata": {
        "id": "wWn2H2somOZ5"
      },
      "execution_count": null,
      "outputs": []
    }
  ]
}