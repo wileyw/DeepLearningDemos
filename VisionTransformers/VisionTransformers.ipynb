{
  "nbformat": 4,
  "nbformat_minor": 0,
  "metadata": {
    "colab": {
      "name": "VisionTransformers.ipynb",
      "provenance": [],
      "authorship_tag": "ABX9TyNgmaJgmoD+gbfFqoG/Kjrj",
      "include_colab_link": true
    },
    "kernelspec": {
      "name": "python3",
      "display_name": "Python 3"
    },
    "language_info": {
      "name": "python"
    }
  },
  "cells": [
    {
      "cell_type": "markdown",
      "metadata": {
        "id": "view-in-github",
        "colab_type": "text"
      },
      "source": [
        "<a href=\"https://colab.research.google.com/github/wileyw/DeepLearningDemos/blob/master/VisionTransformers/VisionTransformers.ipynb\" target=\"_parent\"><img src=\"https://colab.research.google.com/assets/colab-badge.svg\" alt=\"Open In Colab\"/></a>"
      ]
    },
    {
      "cell_type": "markdown",
      "metadata": {
        "id": "WYUvD56k2udQ"
      },
      "source": [
        "# Vision Transformer\n",
        "\n",
        "[Cats and Dogs Vision Transformer](https://github.com/lucidrains/vit-pytorch/blob/main/examples/cats_and_dogs.ipynb)"
      ]
    },
    {
      "cell_type": "code",
      "metadata": {
        "id": "wuDOjl3q2gmR"
      },
      "source": [
        "!pip -q install vit_pytorch linformer"
      ],
      "execution_count": null,
      "outputs": []
    }
  ]
}